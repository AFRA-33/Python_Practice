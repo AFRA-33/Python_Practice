{
 "cells": [
  {
   "cell_type": "markdown",
   "id": "b51a9d4f-f85f-4b72-bceb-9d755139e6c1",
   "metadata": {},
   "source": [
    "# ***Procedural Programming***"
   ]
  },
  {
   "cell_type": "markdown",
   "id": "83cc289e-9d05-4ab2-a83d-900041091acc",
   "metadata": {},
   "source": [
    "Problem: Write a Python program that asks the user for two numbers and then prints the sum, difference, product, and quotient."
   ]
  },
  {
   "cell_type": "code",
   "execution_count": 10,
   "id": "0b36ad8d-66e0-4d6f-993f-8f83fbfa8fd1",
   "metadata": {},
   "outputs": [
    {
     "name": "stdin",
     "output_type": "stream",
     "text": [
      "Please Enter First Number 1\n",
      "Please Enter Second Number 3\n"
     ]
    },
    {
     "name": "stdout",
     "output_type": "stream",
     "text": [
      "addtion is 4\n",
      "substract is -2\n",
      "multiply is 3\n",
      "divide is 0.3333333333333333\n"
     ]
    }
   ],
   "source": [
    "num1 = int(input(\"Please Enter First Number\"))\n",
    "num2 = int(input(\"Please Enter Second Number\"))\n",
    "def add(num1 , num2):\n",
    "    return num1 + num2\n",
    "\n",
    "def substract(num1 , num2):\n",
    "    return num1 - num2\n",
    "\n",
    "def multiply(num1 , num2):\n",
    "    return num1 * num2\n",
    "\n",
    "def divide(num1 , num2):\n",
    "    return num1 / num2\n",
    "\n",
    "print(f\"addtion is {add(num1,num2)}\") \n",
    "print(f\"substract is {substract(num1,num2)}\") \n",
    "print(f\"multiply is {multiply(num1,num2)}\") \n",
    "print(f\"divide is {divide(num1,num2)}\") "
   ]
  },
  {
   "cell_type": "markdown",
   "id": "eda03d0c-d77d-4ef7-87c1-86fb52b01a0f",
   "metadata": {},
   "source": [
    "Write a Python program that takes an integer from the user and determines whether it is even or odd."
   ]
  },
  {
   "cell_type": "code",
   "execution_count": 15,
   "id": "43191d12-2bc7-4dfd-98f4-be20ecb00122",
   "metadata": {},
   "outputs": [
    {
     "name": "stdin",
     "output_type": "stream",
     "text": [
      "Please Enter any Number 3\n"
     ]
    },
    {
     "name": "stdout",
     "output_type": "stream",
     "text": [
      "This number is odd 3\n"
     ]
    }
   ],
   "source": [
    "num = int(input(\"Please Enter any Number\"))\n",
    "def even_odd(num):\n",
    "    if num % 2== 0:\n",
    "        print(f\"This number is even {num}\")\n",
    "    else:\n",
    "        print(f\"This number is odd {num}\")\n",
    "        \n",
    "even_odd(num)"
   ]
  },
  {
   "cell_type": "markdown",
   "id": "a6317153-700a-4458-bba7-a886c2fd2ed2",
   "metadata": {},
   "source": [
    "Write a Python program that takes three numbers as input and prints the largest of the three."
   ]
  },
  {
   "cell_type": "code",
   "execution_count": 39,
   "id": "cd895b02-a614-42a9-916d-cebfd0122bc4",
   "metadata": {},
   "outputs": [
    {
     "name": "stdin",
     "output_type": "stream",
     "text": [
      "Please Enter First Number 67\n",
      "Please Enter Second Number 33\n",
      "Please Enter third Number 22\n"
     ]
    },
    {
     "data": {
      "text/plain": [
       "67"
      ]
     },
     "execution_count": 39,
     "metadata": {},
     "output_type": "execute_result"
    }
   ],
   "source": [
    "num1 = int(input(\"Please Enter First Number\"))\n",
    "num2 = int(input(\"Please Enter Second Number\"))\n",
    "num3 = int(input(\"Please Enter third Number\"))\n",
    "# li = [num1,num2,num3]\n",
    "def largest(num1,num2,num3):\n",
    "    li = [num1,num2,num3]\n",
    "    max_num = li[0]\n",
    "    for i in li:\n",
    "        if i > max_num:\n",
    "           max_num = i\n",
    "    return max_num\n",
    "    \n",
    "\n",
    "largest(num1,num2,num3)\n"
   ]
  },
  {
   "cell_type": "markdown",
   "id": "58d26824-0740-44cf-85da-9fe282326f88",
   "metadata": {},
   "source": [
    " Write a Python program that calculates the sum of all natural numbers up to a given number."
   ]
  },
  {
   "cell_type": "code",
   "execution_count": 46,
   "id": "d2aef698-b55f-43f5-8b27-6dc65c85229c",
   "metadata": {},
   "outputs": [
    {
     "name": "stdin",
     "output_type": "stream",
     "text": [
      "Enter any natural number 4\n"
     ]
    },
    {
     "name": "stdout",
     "output_type": "stream",
     "text": [
      "The sum of natural numbers up to 4 is: 10\n"
     ]
    }
   ],
   "source": [
    "inp = int(input(\"Enter any natural number\"))\n",
    "start = 0\n",
    "for i in range(1,inp+1):\n",
    "    start += i\n",
    "    \n",
    "\n",
    "print(f\"The sum of natural numbers up to {inp} is: {start}\")\n"
   ]
  },
  {
   "cell_type": "markdown",
   "id": "d63fa7a1-d1e7-47a7-92ec-6484e847a2e9",
   "metadata": {},
   "source": [
    "Write a Python program to find the factorial of a given number using a loop."
   ]
  },
  {
   "cell_type": "code",
   "execution_count": 58,
   "id": "da56be4a-5a6f-428e-aeec-ef3207c1518c",
   "metadata": {},
   "outputs": [
    {
     "name": "stdin",
     "output_type": "stream",
     "text": [
      " enter number to factorial.... 9\n"
     ]
    },
    {
     "name": "stdout",
     "output_type": "stream",
     "text": [
      "the factorail of your number 9 is 362880\n"
     ]
    }
   ],
   "source": [
    "inp = int(input(\" enter number to factorial....\"))\n",
    "n = 1\n",
    "for i in range(1, inp+1):\n",
    "     n *= i\n",
    "\n",
    "print(f\"the factorail of your number {inp} is {n}\")\n",
    "     "
   ]
  },
  {
   "cell_type": "markdown",
   "id": "0a124259-6e9b-4e97-b641-bbc610082a20",
   "metadata": {},
   "source": [
    "Write a Python program that counts the number of vowels in a given string."
   ]
  },
  {
   "cell_type": "code",
   "execution_count": 68,
   "id": "6de641a6-4aee-4884-a2b7-c9c4bb5b17f2",
   "metadata": {},
   "outputs": [
    {
     "name": "stdin",
     "output_type": "stream",
     "text": [
      " enter your text.... aervhg iougvf cdrej\n"
     ]
    },
    {
     "name": "stdout",
     "output_type": "stream",
     "text": [
      "The number of vowels in the string is: 5\n"
     ]
    }
   ],
   "source": [
    "inp = input(\" enter your text....\").lower()\n",
    "vowel = \"aeiou\"\n",
    "count = 0\n",
    "for char in vowel:\n",
    "    if char in vowel:\n",
    "        count += 1\n",
    "\n",
    "print(f\"The number of vowels in the string is: {count}\")"
   ]
  },
  {
   "cell_type": "markdown",
   "id": "9fea4a75-9b51-497d-982a-a70a645df189",
   "metadata": {},
   "source": [
    "Write a Python program that prints the following triangle pattern for a given number of rows:"
   ]
  },
  {
   "cell_type": "code",
   "execution_count": 106,
   "id": "2b823d66-b272-494e-8ff5-95aafdc62c6d",
   "metadata": {},
   "outputs": [
    {
     "name": "stdin",
     "output_type": "stream",
     "text": [
      "enter any number.... 9\n"
     ]
    },
    {
     "name": "stdout",
     "output_type": "stream",
     "text": [
      "* \n",
      "* * \n",
      "* * * \n",
      "* * * * \n",
      "* * * * * \n",
      "* * * * * * \n",
      "* * * * * * * \n",
      "* * * * * * * * \n",
      "* * * * * * * * * \n",
      "* * * * * * * * \n",
      "* * * * * * * \n",
      "* * * * * * \n",
      "* * * * * \n",
      "* * * * \n",
      "* * * \n",
      "* * \n",
      "* \n"
     ]
    }
   ],
   "source": [
    "num = int(input(\"enter any number....\"))\n",
    "for i in range(1, num+1):\n",
    "    for j in range(i):\n",
    "        print(\"*\", end= \" \")\n",
    "    print()\n",
    "\n",
    "for i in range(num-1, 0,-1):\n",
    "    for j in range(i):\n",
    "        print(\"*\", end= \" \")\n",
    "    print()"
   ]
  },
  {
   "cell_type": "markdown",
   "id": "9c057734-755b-48cb-8204-db482d434140",
   "metadata": {},
   "source": [
    "Write a Python program that checks whether a given number is a prime number."
   ]
  },
  {
   "cell_type": "code",
   "execution_count": 132,
   "id": "bbc73861-fd7b-4b87-b8c2-778433638082",
   "metadata": {},
   "outputs": [
    {
     "name": "stdin",
     "output_type": "stream",
     "text": [
      "Enter any number..... 6\n"
     ]
    },
    {
     "name": "stdout",
     "output_type": "stream",
     "text": [
      "range(2, 10)\n"
     ]
    }
   ],
   "source": [
    "number = int(input(\"Enter any number.....\"))\n",
    "  "
   ]
  },
  {
   "cell_type": "markdown",
   "id": "3f5ed4b4-904a-4484-abf8-367f68671bcb",
   "metadata": {},
   "source": [
    "Write a Python program to reverse a string entered by the user."
   ]
  },
  {
   "cell_type": "code",
   "execution_count": 144,
   "id": "cca080fb-88cd-40f9-b4cf-83e66faca601",
   "metadata": {},
   "outputs": [
    {
     "name": "stdin",
     "output_type": "stream",
     "text": [
      "Enter first letter... afra \n",
      "Enter second letter... siddiqui\n"
     ]
    },
    {
     "name": "stdout",
     "output_type": "stream",
     "text": [
      "first name siddiqui\n",
      "second name afra \n"
     ]
    }
   ],
   "source": [
    "first_letter = input(\"Enter first letter...\")\n",
    "second_letter = input(\"Enter second letter...\")\n",
    "temp = first_letter\n",
    "first_letter = second_letter\n",
    "second_letter = temp\n",
    "print(f\"first name {first_letter}\")\n",
    "print(f\"second name {second_letter}\")"
   ]
  },
  {
   "cell_type": "code",
   "execution_count": 143,
   "id": "b5d50e46-bb2d-4edc-85d2-cdce8f92bdc5",
   "metadata": {},
   "outputs": [
    {
     "name": "stdin",
     "output_type": "stream",
     "text": [
      "enter string.... afra siddiqui\n"
     ]
    },
    {
     "data": {
      "text/plain": [
       "'iuqiddis arfa'"
      ]
     },
     "execution_count": 143,
     "metadata": {},
     "output_type": "execute_result"
    }
   ],
   "source": [
    "string = input(\"enter string....\")\n",
    "reverse_string = string[::-1]\n",
    "reverse_string\n"
   ]
  },
  {
   "cell_type": "code",
   "execution_count": 170,
   "id": "ad38e482-d0a2-4bb9-aebc-9705e7a7b3a1",
   "metadata": {},
   "outputs": [
    {
     "name": "stdin",
     "output_type": "stream",
     "text": [
      "enter the number.... 33\n"
     ]
    },
    {
     "name": "stdout",
     "output_type": "stream",
     "text": [
      "33 is a composit number\n"
     ]
    }
   ],
   "source": [
    "number = int(input(\"enter the number....\"))\n",
    "if number > 1:\n",
    "    for i in range(2, int(number**0.5)+1):\n",
    "        if number%i == 0:\n",
    "            print(f\"{number} is a composit number\")\n",
    "            break\n",
    "else:\n",
    "   print(f\"{number} is a prime number\")\n",
    "# else:\n",
    "#     print(\"please number greater than 1\")"
   ]
  },
  {
   "cell_type": "code",
   "execution_count": 168,
   "id": "b53deede-9573-41ea-921b-eaaf2a1edb7f",
   "metadata": {},
   "outputs": [
    {
     "name": "stdin",
     "output_type": "stream",
     "text": [
      "Enter a number:  3\n"
     ]
    },
    {
     "name": "stdout",
     "output_type": "stream",
     "text": [
      "3 is a prime number.\n"
     ]
    }
   ],
   "source": [
    "# Task 9: Check for Prime Number\n",
    "num = int(input(\"Enter a number: \"))\n",
    "\n",
    "if num > 1:\n",
    "    for i in range(2, int(num ** 0.5) + 1):\n",
    "        if num % i == 0:\n",
    "            print(f\"{num} is not a prime number.\")\n",
    "            break\n",
    "    else:\n",
    "        print(f\"{num} is a prime number.\")\n",
    "# else:\n",
    "#     print(f\"{num} is not a prime number.\")\n"
   ]
  },
  {
   "cell_type": "markdown",
   "id": "6a6289b1-ce71-4724-818f-13eaccc87316",
   "metadata": {},
   "source": [
    "Write a Python program that converts a temperature given in Celsius to Fahrenheit."
   ]
  },
  {
   "cell_type": "code",
   "execution_count": 5,
   "id": "704efc77-b321-4a68-811c-8de71fb4fca0",
   "metadata": {},
   "outputs": [
    {
     "name": "stdin",
     "output_type": "stream",
     "text": [
      "Enter Celsius vaue to convert... 78\n"
     ]
    },
    {
     "name": "stdout",
     "output_type": "stream",
     "text": [
      "78°C is equal to 172.4°F\n"
     ]
    }
   ],
   "source": [
    "# Fahrenheit=(Celsius×9/5)+32\n",
    "Celsius = int(input(\"Enter Celsius vaue to convert...\"))\n",
    "def conversion(Celsius):\n",
    "    Fahrenheit=(Celsius*9/5)+32\n",
    "    return Fahrenheit\n",
    "\n",
    "print(f\"{Celsius}°C is equal to {conversion(Celsius)}°F\")"
   ]
  },
  {
   "cell_type": "markdown",
   "id": "af13ff6a-1539-4746-a315-fafd1d1d3048",
   "metadata": {},
   "source": [
    "Write a Python program that checks whether a number is positive, negative, or zero."
   ]
  },
  {
   "cell_type": "code",
   "execution_count": 9,
   "id": "90560998-88f0-42ba-aa44-d42baf326f86",
   "metadata": {},
   "outputs": [
    {
     "name": "stdin",
     "output_type": "stream",
     "text": [
      "Write any number.. 0\n"
     ]
    },
    {
     "name": "stdout",
     "output_type": "stream",
     "text": [
      "0 is zero \n"
     ]
    }
   ],
   "source": [
    "number = int(input(\"Write any number..\"))\n",
    "def check_num(number):\n",
    "    if number > 0:\n",
    "        print(f\"{number} is positive\")\n",
    "    elif number < 0:\n",
    "        print(f\"{number} is negative \")\n",
    "    else:\n",
    "        print(f\"{number} is zero \")\n",
    "\n",
    "\n",
    "check_num(number)"
   ]
  },
  {
   "cell_type": "markdown",
   "id": "de044fa4-4731-4b78-8df6-6bb72594ff84",
   "metadata": {},
   "source": [
    "Calculate the Area of a Circle"
   ]
  },
  {
   "cell_type": "code",
   "execution_count": 11,
   "id": "84af0a4d-a535-42d7-8e6e-531c5d4a7e8d",
   "metadata": {},
   "outputs": [
    {
     "name": "stdin",
     "output_type": "stream",
     "text": [
      "Enter radius to get area... 67\n"
     ]
    },
    {
     "name": "stdout",
     "output_type": "stream",
     "text": [
      "The area of the circle from given 67 is 14104.438\n"
     ]
    }
   ],
   "source": [
    "# Area=π×radius \n",
    "radius = int(input(\"Enter radius to get area...\"))\n",
    "def circle_radius(radius):\n",
    "    Area=3.142*radius**2\n",
    "    return Area\n",
    "    \n",
    "\n",
    "print(f\"The area of the circle from given {radius} is {circle_radius(radius)}\")"
   ]
  },
  {
   "cell_type": "markdown",
   "id": "79f9c218-ac92-4ef2-b612-a9ab2e73b91c",
   "metadata": {},
   "source": [
    "Write a Python program that counts down from a given number to zero."
   ]
  },
  {
   "cell_type": "code",
   "execution_count": 15,
   "id": "7f2009cf-d29f-4912-a7ed-882ac2ea8a92",
   "metadata": {},
   "outputs": [
    {
     "name": "stdin",
     "output_type": "stream",
     "text": [
      "Enter any number... 10\n"
     ]
    },
    {
     "name": "stdout",
     "output_type": "stream",
     "text": [
      "10\n",
      "9\n",
      "8\n",
      "7\n",
      "6\n",
      "5\n",
      "4\n",
      "3\n",
      "2\n",
      "1\n",
      "0\n"
     ]
    }
   ],
   "source": [
    "number = int(input(\"Enter any number...\"))\n",
    "for i in range(number,-1,-1):\n",
    "    print(i)"
   ]
  },
  {
   "cell_type": "markdown",
   "id": "7c8b9faf-6ebb-4bca-ad53-730994618016",
   "metadata": {},
   "source": [
    "Write a Python program that finds the sum of all even numbers from 1 to a given number."
   ]
  },
  {
   "cell_type": "code",
   "execution_count": 34,
   "id": "ff37ef2b-05b0-4fb1-b1c1-718b3c9ad4c0",
   "metadata": {},
   "outputs": [
    {
     "name": "stdin",
     "output_type": "stream",
     "text": [
      "Enter any number... 14\n"
     ]
    },
    {
     "name": "stdout",
     "output_type": "stream",
     "text": [
      "14 is even..\n",
      "14 is odd..\n"
     ]
    }
   ],
   "source": [
    "number = int(input(\"Enter any number...\"))\n",
    "def count_even_num(number):\n",
    "    if number%2 == 0:\n",
    "      print(f\"{number} is even..\")\n",
    "    for i in range(0, number,-2):\n",
    "            print(i)\n",
    "    else:\n",
    "        print(f\"{number} is odd..\")\n",
    "        \n",
    "\n",
    "count_even_num(number)\n",
    "    "
   ]
  },
  {
   "cell_type": "code",
   "execution_count": 37,
   "id": "f2a0f12f-040f-4bde-9900-5ceca4f8b4ec",
   "metadata": {},
   "outputs": [
    {
     "name": "stdin",
     "output_type": "stream",
     "text": [
      "Enter any number... 16\n"
     ]
    },
    {
     "name": "stdout",
     "output_type": "stream",
     "text": [
      "3\n",
      "5\n",
      "7\n",
      "9\n",
      "11\n",
      "13\n",
      "15\n"
     ]
    }
   ],
   "source": [
    "number = int(input(\"Enter any number...\"))\n",
    " sum = 0\n",
    "if number % 2 == 0:\n",
    "    for i in range(2,number,2):\n",
    "        print(i+1)\n",
    "else:\n",
    "    print(f\"{number} is not even\")\n"
   ]
  },
  {
   "cell_type": "markdown",
   "id": "e0a57ccc-3499-4378-9c96-70f1052a6ad9",
   "metadata": {},
   "source": [
    "Write a Python function that takes a nested list and returns a flattened version of the list."
   ]
  },
  {
   "cell_type": "code",
   "execution_count": null,
   "id": "e334742f-1112-40f7-ac61-e4387cc6e10e",
   "metadata": {},
   "outputs": [],
   "source": []
  },
  {
   "cell_type": "markdown",
   "id": "3c27ce5d-69a2-4b91-ba77-702bc76c04ef",
   "metadata": {},
   "source": [
    "Write a Python function that extracts specific keys from a nested dictionary and returns a new dictionary with only those keys."
   ]
  },
  {
   "cell_type": "code",
   "execution_count": 19,
   "id": "65eb846c-937d-4bb5-a2da-44356add454f",
   "metadata": {},
   "outputs": [
    {
     "name": "stdout",
     "output_type": "stream",
     "text": [
      "9876 Afra Siddiqui absd@example.com\n",
      "None\n",
      "9876 Afra Siddiqui absd@example.com\n",
      "None\n",
      "9876 Afra Siddiqui absd@example.com\n",
      "None\n",
      "9876 Afra Siddiqui absd@example.com\n",
      "None\n"
     ]
    }
   ],
   "source": [
    "nested_dict = {\n",
    "    'name': 'Alice',\n",
    "    'details': {\n",
    "        'age': 30,\n",
    "        'address': {\n",
    "            'city': 'Wonderland',\n",
    "            'zip': '12345'\n",
    "        }\n",
    "    },\n",
    "    'email': 'alice@example.com',\n",
    "    'phone': '123-456-7890'\n",
    "}\n",
    "# keys_to_extract = ['name', 'zip', 'email']\n",
    "def extract_key(nested_dict):\n",
    "    for key , value in nested_dict.items():\n",
    "        zip_value = nested_dict[\"details\"][\"address\"][\"zip\"].replace(\"12345\",\"9876\")\n",
    "        name_value = nested_dict[\"name\"].replace(\"Alice\",\"Afra Siddiqui\")\n",
    "        email_value = nested_dict[\"email\"].replace(\"alice@example.com\",\"absd@example.com\")\n",
    "        print(zip_value,name_value,email_value)\n",
    "        print(nested_dict.update())\n",
    "\n",
    "extract_key(nested_dict)"
   ]
  },
  {
   "cell_type": "code",
   "execution_count": 16,
   "id": "b7ce5f31-591f-460a-b59b-ee3592135be8",
   "metadata": {},
   "outputs": [
    {
     "data": {
      "text/plain": [
       "['__class__',\n",
       " '__class_getitem__',\n",
       " '__contains__',\n",
       " '__delattr__',\n",
       " '__delitem__',\n",
       " '__dir__',\n",
       " '__doc__',\n",
       " '__eq__',\n",
       " '__format__',\n",
       " '__ge__',\n",
       " '__getattribute__',\n",
       " '__getitem__',\n",
       " '__getstate__',\n",
       " '__gt__',\n",
       " '__hash__',\n",
       " '__init__',\n",
       " '__init_subclass__',\n",
       " '__ior__',\n",
       " '__iter__',\n",
       " '__le__',\n",
       " '__len__',\n",
       " '__lt__',\n",
       " '__ne__',\n",
       " '__new__',\n",
       " '__or__',\n",
       " '__reduce__',\n",
       " '__reduce_ex__',\n",
       " '__repr__',\n",
       " '__reversed__',\n",
       " '__ror__',\n",
       " '__setattr__',\n",
       " '__setitem__',\n",
       " '__sizeof__',\n",
       " '__str__',\n",
       " '__subclasshook__',\n",
       " 'clear',\n",
       " 'copy',\n",
       " 'fromkeys',\n",
       " 'get',\n",
       " 'items',\n",
       " 'keys',\n",
       " 'pop',\n",
       " 'popitem',\n",
       " 'setdefault',\n",
       " 'update',\n",
       " 'values']"
      ]
     },
     "execution_count": 16,
     "metadata": {},
     "output_type": "execute_result"
    }
   ],
   "source": [
    "dir({})"
   ]
  },
  {
   "cell_type": "code",
   "execution_count": 22,
   "id": "5b3b5205-5e28-4faa-aedc-449679d69265",
   "metadata": {},
   "outputs": [
    {
     "ename": "TypeError",
     "evalue": "replace_keys_values() got an unexpected keyword argument 'a'",
     "output_type": "error",
     "traceback": [
      "\u001b[1;31m---------------------------------------------------------------------------\u001b[0m",
      "\u001b[1;31mTypeError\u001b[0m                                 Traceback (most recent call last)",
      "Cell \u001b[1;32mIn[22], line 16\u001b[0m\n\u001b[0;32m     10\u001b[0m nested_dict \u001b[38;5;241m=\u001b[39m {\n\u001b[0;32m     11\u001b[0m     \u001b[38;5;124m'\u001b[39m\u001b[38;5;124ma\u001b[39m\u001b[38;5;124m'\u001b[39m: \u001b[38;5;241m1\u001b[39m,\n\u001b[0;32m     12\u001b[0m     \u001b[38;5;124m'\u001b[39m\u001b[38;5;124mb\u001b[39m\u001b[38;5;124m'\u001b[39m: {\u001b[38;5;124m'\u001b[39m\u001b[38;5;124mc\u001b[39m\u001b[38;5;124m'\u001b[39m: \u001b[38;5;241m2\u001b[39m, \u001b[38;5;124m'\u001b[39m\u001b[38;5;124md\u001b[39m\u001b[38;5;124m'\u001b[39m: {\u001b[38;5;124m'\u001b[39m\u001b[38;5;124me\u001b[39m\u001b[38;5;124m'\u001b[39m: \u001b[38;5;241m3\u001b[39m}},\n\u001b[0;32m     13\u001b[0m     \u001b[38;5;124m'\u001b[39m\u001b[38;5;124mf\u001b[39m\u001b[38;5;124m'\u001b[39m: \u001b[38;5;241m4\u001b[39m\n\u001b[0;32m     14\u001b[0m }\n\u001b[0;32m     15\u001b[0m keys_to_replace \u001b[38;5;241m=\u001b[39m [\u001b[38;5;124m'\u001b[39m\u001b[38;5;124ma\u001b[39m\u001b[38;5;124m'\u001b[39m, \u001b[38;5;124m'\u001b[39m\u001b[38;5;124me\u001b[39m\u001b[38;5;124m'\u001b[39m]\n\u001b[1;32m---> 16\u001b[0m \u001b[38;5;28mprint\u001b[39m(\u001b[43mreplace_keys_values\u001b[49m\u001b[43m(\u001b[49m\u001b[43mnested_dict\u001b[49m\u001b[43m,\u001b[49m\u001b[43m \u001b[49m\u001b[43mkeys_to_replace\u001b[49m\u001b[43m,\u001b[49m\u001b[43m \u001b[49m\u001b[43ma\u001b[49m\u001b[38;5;241;43m=\u001b[39;49m\u001b[38;5;124;43m'\u001b[39;49m\u001b[38;5;124;43m52\u001b[39;49m\u001b[38;5;124;43m'\u001b[39;49m\u001b[43m,\u001b[49m\u001b[43m \u001b[49m\u001b[43mb\u001b[49m\u001b[38;5;241;43m=\u001b[39;49m\u001b[38;5;124;43m\"\u001b[39;49m\u001b[38;5;124;43m78\u001b[39;49m\u001b[38;5;124;43m\"\u001b[39;49m\u001b[43m)\u001b[49m)\n",
      "\u001b[1;31mTypeError\u001b[0m: replace_keys_values() got an unexpected keyword argument 'a'"
     ]
    }
   ],
   "source": [
    "def replace_keys_values(nested_dict, keys, new_value):\n",
    "    for k, v in nested_dict.items():\n",
    "        if k in keys:\n",
    "            nested_dict[k] = new_value\n",
    "        elif isinstance(v, dict):\n",
    "            replace_keys_values(v, keys, new_value)\n",
    "    return nested_dict\n",
    "\n",
    "# Example usage\n",
    "nested_dict = {\n",
    "    'a': 1,\n",
    "    'b': {'c': 2, 'd': {'e': 3}},\n",
    "    'f': 4\n",
    "}\n",
    "keys_to_replace = ['a', 'e']\n",
    "print(replace_keys_values(nested_dict, keys_to_replace, a='52', b=\"78\"))\n"
   ]
  },
  {
   "cell_type": "markdown",
   "id": "3cc3dd79-39d2-48c0-9d26-3b072ee20f0f",
   "metadata": {},
   "source": [
    "Create a dictionary representing a shopping list with items as keys and their quantities as values. Then, add a new item to the list, update the quantity of an existing item, and remove an item."
   ]
  },
  {
   "cell_type": "code",
   "execution_count": 8,
   "id": "c39a140d-5f93-40fb-9443-cd5dadb9a9bf",
   "metadata": {},
   "outputs": [
    {
     "data": {
      "text/plain": [
       "{'apples': 75, 'oranges': 3, 'mango': 6}"
      ]
     },
     "execution_count": 8,
     "metadata": {},
     "output_type": "execute_result"
    }
   ],
   "source": [
    "shopping_list = {\n",
    "    \"apples\": 4,\n",
    "    \"bananas\": 6,\n",
    "    \"oranges\": 3\n",
    "}\n",
    "def add_list(shopping_list):\n",
    "    shopping_list.pop(\"bananas\")\n",
    "    shopping_list.update({\"apples\": 75})\n",
    "    shopping_list.update({\"mango\": 6})\n",
    "    return shopping_list\n",
    "\n",
    "add_list(shopping_list)"
   ]
  },
  {
   "cell_type": "code",
   "execution_count": 10,
   "id": "a4a316af-b99e-417a-b081-af9e647caca4",
   "metadata": {
    "scrolled": true
   },
   "outputs": [
    {
     "data": {
      "text/plain": [
       "['__add__',\n",
       " '__class__',\n",
       " '__class_getitem__',\n",
       " '__contains__',\n",
       " '__delattr__',\n",
       " '__dir__',\n",
       " '__doc__',\n",
       " '__eq__',\n",
       " '__format__',\n",
       " '__ge__',\n",
       " '__getattribute__',\n",
       " '__getitem__',\n",
       " '__getnewargs__',\n",
       " '__getstate__',\n",
       " '__gt__',\n",
       " '__hash__',\n",
       " '__init__',\n",
       " '__init_subclass__',\n",
       " '__iter__',\n",
       " '__le__',\n",
       " '__len__',\n",
       " '__lt__',\n",
       " '__mul__',\n",
       " '__ne__',\n",
       " '__new__',\n",
       " '__reduce__',\n",
       " '__reduce_ex__',\n",
       " '__repr__',\n",
       " '__rmul__',\n",
       " '__setattr__',\n",
       " '__sizeof__',\n",
       " '__str__',\n",
       " '__subclasshook__',\n",
       " 'count',\n",
       " 'index']"
      ]
     },
     "execution_count": 10,
     "metadata": {},
     "output_type": "execute_result"
    }
   ],
   "source": [
    "dir(())"
   ]
  },
  {
   "cell_type": "markdown",
   "id": "a022320e-17c0-499c-87fe-e1dca5fe3906",
   "metadata": {},
   "source": [
    "Given a tuple containing the names of students, access the second and fourth students. Then, create a new tuple by adding a new student to the original tuple."
   ]
  },
  {
   "cell_type": "code",
   "execution_count": 14,
   "id": "83295e17-a83b-49c3-8fbb-7f9a71171db3",
   "metadata": {},
   "outputs": [
    {
     "name": "stdout",
     "output_type": "stream",
     "text": [
      "('John', 'Jane', 'Tom', 'Emily', 'Michael', 'Afra', 'Siddiqui')\n",
      "Tom\n",
      "Michael\n"
     ]
    }
   ],
   "source": [
    "students = (\"John\", \"Jane\", \"Tom\", \"Emily\", \"Michael\")\n",
    "new_tuple = (\"Afra\", \"Siddiqui\")\n",
    "def update_tuple(students,new_tuple):\n",
    "    second_student = students[2]\n",
    "    fourth_student = students[4]\n",
    "    new = students + new_tuple\n",
    "    print(new)\n",
    "    print(second_student)\n",
    "    print(fourth_student)\n",
    "\n",
    "update_tuple(students,new_tuple)\n",
    "    "
   ]
  },
  {
   "cell_type": "markdown",
   "id": "399014cb-29bb-4471-b92c-ed19fe2c43f3",
   "metadata": {},
   "source": [
    "Task:\n",
    "Create a list of numbers and perform the following operations:\n",
    "\n",
    "Append a number to the list.\n",
    "Remove a specific number from the list.\n",
    "Sort the list in ascending order.\n",
    "Find the maximum and minimum values in the list."
   ]
  },
  {
   "cell_type": "code",
   "execution_count": 46,
   "id": "17999ed5-f300-4db8-bace-7557e4c1660d",
   "metadata": {},
   "outputs": [
    {
     "name": "stdout",
     "output_type": "stream",
     "text": [
      "[0, 5, 3, 8, 1, 9, 2, 34, 56, 78, 67]\n",
      "[0, 5, 3, 8, 1, 9, 2, 34, 56, 67]\n",
      "[0, 1, 2, 3, 5, 8, 9]\n",
      "[0, 1, 2, 3, 5, 8, 9, 34, 56, 67]\n",
      "maximmum value is 67\n",
      "minimum value is 0\n"
     ]
    }
   ],
   "source": [
    "# Append a number to the list. \n",
    "numbers = [0,5, 3, 8, 1, 9, 2]\n",
    "new = [34,56,78]\n",
    "add = numbers + new\n",
    "add.append(67)\n",
    "print(add)\n",
    "\n",
    "# Remove a specific number from the list.\n",
    "add.remove(78)\n",
    "print(add)\n",
    "\n",
    "# Sort the list in ascending order.\n",
    "numbers.sort(reverse=False)\n",
    "print(numbers)\n",
    "add.sort(reverse=False)\n",
    "print(add)\n",
    "\n",
    "# maximum and minimum values in the list\n",
    "def maximum(add):\n",
    "    start = 0\n",
    "    max_value = add[0]\n",
    "    for i in add:\n",
    "        if i > max_value:\n",
    "            max_value = i\n",
    "    return max_value\n",
    "\n",
    "print(f\"maximmum value is {maximum(add)}\")\n",
    "\n",
    "def minimmum(add):\n",
    "    start = 0\n",
    "    max_value = add[0]\n",
    "    for i in add:\n",
    "        if i < max_value:\n",
    "            max_value = i\n",
    "    return max_value\n",
    "\n",
    "print(f\"minimum value is {minimmum(add)}\")"
   ]
  },
  {
   "cell_type": "markdown",
   "id": "e4709b67-8335-442f-9e7d-fd5fe6c119df",
   "metadata": {},
   "source": [
    "Create a list of words and count how many times each word appears in the list using a dictionary."
   ]
  },
  {
   "cell_type": "code",
   "execution_count": null,
   "id": "bc36aed9-a421-4b27-8992-d1965b18c562",
   "metadata": {},
   "outputs": [],
   "source": []
  },
  {
   "cell_type": "markdown",
   "id": "d08f54d4-1135-4bac-8532-58a6ade70831",
   "metadata": {},
   "source": [
    "Given a list of tuples where each tuple contains a student's name and grade, convert this list into a dictionary with names as keys and grades as values."
   ]
  },
  {
   "cell_type": "code",
   "execution_count": 48,
   "id": "c522d5f1-4760-4530-ba44-59d5e31db42e",
   "metadata": {},
   "outputs": [
    {
     "data": {
      "text/plain": [
       "{'John': 85, 'Jane': 92, 'Tom': 78, 'Emily': 89}"
      ]
     },
     "execution_count": 48,
     "metadata": {},
     "output_type": "execute_result"
    }
   ],
   "source": [
    "student_grades = [(\"John\", 85), (\"Jane\", 92), (\"Tom\", 78), (\"Emily\", 89)]\n",
    "\n",
    "def conversion(student_grades):\n",
    "    convert = dict(student_grades)\n",
    "    return convert\n",
    "    #print(student_grades)\n",
    "\n",
    "conversion(student_grades)"
   ]
  },
  {
   "cell_type": "markdown",
   "id": "58a7653c-8fc7-4968-8062-85efb6ef3dd4",
   "metadata": {},
   "source": [
    "# ***Object Oriented Programming***"
   ]
  },
  {
   "cell_type": "code",
   "execution_count": 2,
   "id": "376e40d4-8382-4125-9a98-2f7f13f55f82",
   "metadata": {},
   "outputs": [
    {
     "data": {
      "text/plain": [
       "'Afra Siddiqui'"
      ]
     },
     "execution_count": 2,
     "metadata": {},
     "output_type": "execute_result"
    }
   ],
   "source": [
    "# Creating class\n",
    "class Student:\n",
    "    name = \"Afra Siddiqui\"  # This is an attribute\n",
    "\n",
    "# Creating an object (instance)\n",
    "s1 = Student()\n",
    "s1\n",
    "s1.name"
   ]
  },
  {
   "cell_type": "code",
   "execution_count": 9,
   "id": "159b95a9-158d-4385-a313-c5140ddcf2f9",
   "metadata": {},
   "outputs": [
    {
     "data": {
      "text/plain": [
       "'Afra Siddiqui'"
      ]
     },
     "execution_count": 9,
     "metadata": {},
     "output_type": "execute_result"
    }
   ],
   "source": [
    "# Creating class\n",
    "class Student:\n",
    "    # Creating our own methods like this\n",
    "    def printing(self):\n",
    "        self.name = \"Afra Siddiqui\"  # This is an attribute\n",
    "        #return name\n",
    "\n",
    "# Creating an object (instance)\n",
    "s1 = Student()     # It gives one argument which self\n",
    "s1\n",
    "s1.printing()\n",
    "s1.name"
   ]
  },
  {
   "cell_type": "code",
   "execution_count": 12,
   "id": "051cd1d1-d71e-4d71-a328-018014136bee",
   "metadata": {},
   "outputs": [
    {
     "data": {
      "text/plain": [
       "'this my init constractor......'"
      ]
     },
     "execution_count": 12,
     "metadata": {},
     "output_type": "execute_result"
    }
   ],
   "source": [
    "# Creating class\n",
    "class Student:\n",
    "    # Creating initializing constractor which will always run with object\n",
    "    def __init__(self):\n",
    "        self.quote = \"this my init constractor......\"\n",
    "        \n",
    "    # Creating our own methods like this\n",
    "    def printing(self):\n",
    "        self.name = \"Afra Siddiqui\"  # This is an attribute\n",
    "        #return name\n",
    "\n",
    "# Creating an object (instance)\n",
    "s1 = Student()     # It gives one argument which is self\n",
    "s1\n",
    "#s1.printing()\n",
    "#s1.name\n",
    "s1.quote"
   ]
  },
  {
   "cell_type": "code",
   "execution_count": 17,
   "id": "8434216d-8c61-4b7d-bb98-c92589d9c1c1",
   "metadata": {},
   "outputs": [
    {
     "name": "stdin",
     "output_type": "stream",
     "text": [
      "Enter your quote.... fgjguk\n",
      "Enter your name.... fjgukllkjnkjkjkjk\n"
     ]
    },
    {
     "data": {
      "text/plain": [
       "'fjgukllkjnkjkjkjk'"
      ]
     },
     "execution_count": 17,
     "metadata": {},
     "output_type": "execute_result"
    }
   ],
   "source": [
    "quote = input(\"Enter your quote....\")\n",
    "name = input(\"Enter your name....\")\n",
    "# Creating class\n",
    "class Student:\n",
    "    # Creating initializing constractor which will always run with object\n",
    "    def __init__(self,quote):\n",
    "        self.quote = quote\n",
    "        \n",
    "    # Creating our own methods like this\n",
    "    def printing(self,name):\n",
    "        self.name = name  # This is an attribute\n",
    "        #return name\n",
    "\n",
    "# Creating an object (instance)\n",
    "s1 = Student(quote)     # It gives one argument which is self\n",
    "s1\n",
    "s1.printing(name)\n",
    "s1.name\n",
    "#s1.quote"
   ]
  },
  {
   "cell_type": "code",
   "execution_count": 22,
   "id": "848a0ff4-a36e-46d9-a6cf-1d95fb4a8c08",
   "metadata": {},
   "outputs": [
    {
     "data": {
      "text/plain": [
       "'This is Object Oriented Programming in python'"
      ]
     },
     "execution_count": 22,
     "metadata": {},
     "output_type": "execute_result"
    }
   ],
   "source": [
    "# Creating class\n",
    "class Student:\n",
    "    # This is called as class attribute \n",
    "    my_program = \"This is Object Oriented Programming in python\" \n",
    "    def my_name(self):\n",
    "        # This is called as obj attribute or instance attribute\n",
    "        self.name = \"Afra Siddiqui\"  # This is an attribute\n",
    "\n",
    "# Creating an object (instance)\n",
    "s1 = Student()\n",
    "s1\n",
    "s1.my_name()\n",
    "s1.name\n",
    "s1.my_program"
   ]
  },
  {
   "cell_type": "markdown",
   "id": "922d0cc5-9564-48eb-b922-7713763f29e6",
   "metadata": {},
   "source": [
    "#### create class that takes 3 subject name and marks as argument amd create method to shoe average"
   ]
  },
  {
   "cell_type": "code",
   "execution_count": 32,
   "id": "707b3768-e9e9-408d-b731-ea0546af0013",
   "metadata": {},
   "outputs": [
    {
     "name": "stdin",
     "output_type": "stream",
     "text": [
      "Enter your Subject marks.... english\n",
      "Enter your Subject marks.... maths\n",
      "Enter your Subject marks.... 67\n",
      "Enter your Subject marks.... 56\n"
     ]
    },
    {
     "data": {
      "text/plain": [
       "'The average of english and maths subjects is 61.5'"
      ]
     },
     "execution_count": 32,
     "metadata": {},
     "output_type": "execute_result"
    }
   ],
   "source": [
    "student_1_subject = input(\"Enter your Subject marks....\")\n",
    "student_2_subject = input(\"Enter your Subject marks....\")\n",
    "student_1_marks = int(input(\"Enter your Subject marks....\"))\n",
    "student_2_marks = int(input(\"Enter your Subject marks....\"))\n",
    "\n",
    "class Students:\n",
    "    def __init__(self, student_1_subject, student_2_subject, student_1_marks, student_2_marks):\n",
    "        self.student_1_subject = student_1_subject\n",
    "        self.student_2_subject = student_2_subject\n",
    "        self.student_1_marks = student_1_marks\n",
    "        self.student_2_marks = student_2_marks\n",
    "\n",
    "    def average(self, student_1_subject, student_2_subject,  student_1_marks, student_2_marks):\n",
    "        averages =  (self.student_1_marks + self.student_2_marks)/2\n",
    "        return f\"The average of {self.student_1_subject} and {self.student_2_subject} subjects is {averages}\"\n",
    "\n",
    "\n",
    "        \n",
    "stud = Students(student_1_subject, student_2_subject, student_1_marks, student_2_marks)\n",
    "stud\n",
    "stud.average(student_1_marks, student_2_marks,student_1_subject, student_2_subject)\n",
    "\n"
   ]
  },
  {
   "cell_type": "code",
   "execution_count": 32,
   "id": "5c567640",
   "metadata": {},
   "outputs": [
    {
     "name": "stdin",
     "output_type": "stream",
     "text": [
      "Enter your Subject marks.... english\n",
      "Enter your Subject marks.... maths\n",
      "Enter your Subject marks.... 67\n",
      "Enter your Subject marks.... 56\n"
     ]
    },
    {
     "data": {
      "text/plain": [
       "'The average of english and maths subjects is 61.5'"
      ]
     },
     "execution_count": 32,
     "metadata": {},
     "output_type": "execute_result"
    }
   ],
   "source": [
    "student_1_subject = input(\"Enter your Subject marks....\")\n",
    "student_2_subject = input(\"Enter your Subject marks....\")\n",
    "student_1_marks = int(input(\"Enter your Subject marks....\"))\n",
    "student_2_marks = int(input(\"Enter your Subject marks....\"))\n",
    "\n",
    "class Students:\n",
    "    def __init__(self, student_1_subject, student_2_subject, student_1_marks, student_2_marks):\n",
    "        self.student_1_subject = student_1_subject\n",
    "        self.student_2_subject = student_2_subject\n",
    "        self.student_1_marks = student_1_marks\n",
    "        self.student_2_marks = student_2_marks\n",
    "\n",
    "    def average(self, student_1_subject, student_2_subject,  student_1_marks, student_2_marks):\n",
    "        averages =  (self.student_1_marks + self.student_2_marks)/2\n",
    "        return f\"The average of {self.student_1_subject} and {self.student_2_subject} subjects is {averages}\"\n",
    "\n",
    "\n",
    "        \n",
    "stud = Students(student_1_subject, student_2_subject, student_1_marks, student_2_marks)\n",
    "stud\n",
    "stud.average(student_1_marks, student_2_marks,student_1_subject, student_2_subject)\n",
    "\n"
   ]
  },
  {
   "cell_type": "code",
   "execution_count": 35,
   "id": "26f8c056-f548-4e95-9fb6-46415d11af21",
   "metadata": {},
   "outputs": [
    {
     "data": {
      "text/plain": [
       "'The average of Afra Siddiqui subjects is 70.66666666666667'"
      ]
     },
     "execution_count": 35,
     "metadata": {},
     "output_type": "execute_result"
    }
   ],
   "source": [
    "class Students:\n",
    "    def __init__(self,name , marks):\n",
    "        self.name = name\n",
    "        self.marks = marks\n",
    "        \n",
    "    def average(self):\n",
    "        sum = 0\n",
    "        for val in self.marks:\n",
    "            sum += val\n",
    "        return f\"The average of {self.name} subjects is {sum/3}\"\n",
    "\n",
    "\n",
    "        \n",
    "stud = Students(\"Afra Siddiqui\",[67,56,89])\n",
    "stud\n",
    "stud.average()\n"
   ]
  },
  {
   "cell_type": "markdown",
   "id": "cbc77592-2189-4fd9-a705-6c81d2af2afb",
   "metadata": {},
   "source": [
    "### *Static Methods*"
   ]
  },
  {
   "cell_type": "code",
   "execution_count": 37,
   "id": "46e8d8a1-fd9f-4971-8c00-1d4f88a72465",
   "metadata": {},
   "outputs": [
    {
     "name": "stdout",
     "output_type": "stream",
     "text": [
      "this is my static methods.....\n"
     ]
    }
   ],
   "source": [
    "class Students:\n",
    "    def __init__(self,name , marks):\n",
    "        self.name = name\n",
    "        self.marks = marks\n",
    "\n",
    "    @staticmethod      # decorator\n",
    "    def hello():\n",
    "        print(\"this is my static methods.....\")\n",
    "        \n",
    "    def average(self):\n",
    "        sum = 0\n",
    "        for val in self.marks:\n",
    "            sum += val\n",
    "        return f\"The average of {self.name} subjects is {sum/3}\"\n",
    "\n",
    "\n",
    "        \n",
    "stud = Students(\"Afra Siddiqui\",[67,56,89])\n",
    "stud\n",
    "stud.average()\n",
    "stud.hello()"
   ]
  },
  {
   "cell_type": "markdown",
   "id": "93b959ef-5dda-4ae8-8020-9e89ced2be9c",
   "metadata": {},
   "source": [
    "#### Create class with two attribute (balance & account no.). create method for debit, cridet, and print balance amount."
   ]
  },
  {
   "cell_type": "code",
   "execution_count": 53,
   "id": "f31a3670-9af4-4cd1-af32-65dd6f128b43",
   "metadata": {},
   "outputs": [
    {
     "name": "stdin",
     "output_type": "stream",
     "text": [
      "Enter your amount which you want to credit...  1000\n",
      "Enter your amount which you want to debit...  1500\n"
     ]
    },
    {
     "data": {
      "text/plain": [
       "'You debit 1500 and your balance is 4500'"
      ]
     },
     "execution_count": 53,
     "metadata": {},
     "output_type": "execute_result"
    }
   ],
   "source": [
    "\n",
    "class Bank:\n",
    "    current_amount = 5000\n",
    "    def __init__(self):\n",
    "        self.debit_amount = debit_amount\n",
    "        self.credit_amount = credit_amount\n",
    "\n",
    "    def credit(self):\n",
    "        credit_amount = int(input(\"Enter your amount which you want to credit... \"))\n",
    "        self.current_amount += credit_amount \n",
    "        return f\"You credit {credit_amount} and your balance is {self.balance()}\"\n",
    "\n",
    "    def debit(self):\n",
    "        debit_amount = int(input(\"Enter your amount which you want to debit... \"))\n",
    "        self.current_amount -= debit_amount\n",
    "        return f\"You debit {debit_amount} and your balance is {self.balance()}\"\n",
    "\n",
    "    def balance(self):\n",
    "        return self.current_amount\n",
    "\n",
    "bank = Bank()\n",
    "bank\n",
    "bank.credit()\n",
    "bank.debit()\n",
    "        \n",
    "        "
   ]
  },
  {
   "cell_type": "code",
   "execution_count": 56,
   "id": "b89884c2-f025-4543-976e-492dae72e44c",
   "metadata": {},
   "outputs": [
    {
     "ename": "AttributeError",
     "evalue": "'Bank' object has no attribute 'credit_amount'",
     "output_type": "error",
     "traceback": [
      "\u001b[1;31m---------------------------------------------------------------------------\u001b[0m",
      "\u001b[1;31mAttributeError\u001b[0m                            Traceback (most recent call last)",
      "Cell \u001b[1;32mIn[56], line 24\u001b[0m\n\u001b[0;32m     22\u001b[0m \u001b[38;5;28;01mdel\u001b[39;00m bank\u001b[38;5;241m.\u001b[39mcredit_amount\n\u001b[0;32m     23\u001b[0m \u001b[38;5;66;03m#bank.debit()\u001b[39;00m\n\u001b[1;32m---> 24\u001b[0m \u001b[43mbank\u001b[49m\u001b[38;5;241;43m.\u001b[39;49m\u001b[43mcredit_amount\u001b[49m\n",
      "\u001b[1;31mAttributeError\u001b[0m: 'Bank' object has no attribute 'credit_amount'"
     ]
    }
   ],
   "source": [
    "class Bank:\n",
    "    current_amount = 5000\n",
    "    def __init__(self):\n",
    "        self.debit_amount = debit_amount\n",
    "        self.credit_amount = credit_amount\n",
    "\n",
    "    def credit(self):\n",
    "        credit_amount = int(input(\"Enter your amount which you want to credit... \"))\n",
    "        self.current_amount += credit_amount \n",
    "        return f\"You credit {credit_amount} and your balance is {self.balance()}\"\n",
    "\n",
    "    def debit(self):\n",
    "        debit_amount = int(input(\"Enter your amount which you want to debit... \"))\n",
    "        self.current_amount -= debit_amount\n",
    "        return f\"You debit {debit_amount} and your balance is {self.balance()}\"\n",
    "\n",
    "    def balance(self):\n",
    "        return self.current_amount\n",
    "\n",
    "bank = Bank()\n",
    "bank\n",
    "del bank.credit_amount                   # del can delete attribute from class\n",
    "#bank.debit()\n",
    "bank.credit_amount"
   ]
  },
  {
   "cell_type": "code",
   "execution_count": 7,
   "id": "523895ac-4763-4141-a4fb-2c29875adfa1",
   "metadata": {},
   "outputs": [
    {
     "ename": "AttributeError",
     "evalue": "'Account' object has no attribute 'acc_pass'",
     "output_type": "error",
     "traceback": [
      "\u001b[1;31m---------------------------------------------------------------------------\u001b[0m",
      "\u001b[1;31mAttributeError\u001b[0m                            Traceback (most recent call last)",
      "Cell \u001b[1;32mIn[7], line 9\u001b[0m\n\u001b[0;32m      7\u001b[0m account\n\u001b[0;32m      8\u001b[0m account\u001b[38;5;241m.\u001b[39macc_no\n\u001b[1;32m----> 9\u001b[0m \u001b[43maccount\u001b[49m\u001b[38;5;241;43m.\u001b[39;49m\u001b[43macc_pass\u001b[49m\n",
      "\u001b[1;31mAttributeError\u001b[0m: 'Account' object has no attribute 'acc_pass'"
     ]
    }
   ],
   "source": [
    "class Account:\n",
    "    def __init__(self, acc_no , acc_pass):\n",
    "        self.acc_no = acc_no\n",
    "        self.__acc_pass = acc_pass             # __acc_pass using __ in start make the attribute private\n",
    "\n",
    "account = Account(\"12345\" ,\"abcd\")\n",
    "account\n",
    "account.acc_no\n",
    "account.acc_pass"
   ]
  },
  {
   "cell_type": "code",
   "execution_count": 46,
   "id": "0efe9f06-be93-46e3-af59-b7754e27e7fc",
   "metadata": {},
   "outputs": [
    {
     "name": "stdin",
     "output_type": "stream",
     "text": [
      "Enter your new passward...... dfff\n"
     ]
    },
    {
     "name": "stdout",
     "output_type": "stream",
     "text": [
      "Now yorold passwrd is dfghfhgj and now new passward is new passwrd dfff\n"
     ]
    },
    {
     "data": {
      "text/plain": [
       "'dfghfhgj'"
      ]
     },
     "execution_count": 46,
     "metadata": {},
     "output_type": "execute_result"
    }
   ],
   "source": [
    "new_pass = input(\"Enter your new passward......\")\n",
    "class Account:\n",
    "    def __init__(self, acc_no , acc_pass):\n",
    "        self.acc_no = acc_no\n",
    "        self.__acc_pass = acc_pass             # __acc_pass using __ in start make the attribute private\n",
    "\n",
    "    def passward(self,acc_pass,new_pass):\n",
    "        self.acc_pass = acc_pass\n",
    "        print(f\"Now yorold passwrd is {self.acc_pass} and now new passward is {self.new_passward(new_pass)}\")\n",
    "\n",
    "    def new_passward(self,new_pass):\n",
    "        self.new_pass = new_pass\n",
    "        return f\"new passwrd {self.new_pass}\"\n",
    "\n",
    "account = Account(\"12345\" , \"abcd\")\n",
    "account\n",
    "# account.acc_no\n",
    "# account.new_passward(new_pass)\n",
    "account.passward(\"dfghfhgj\",new_pass)\n",
    "account.acc_pass\n",
    "# account.new_passward(new_pass)\n"
   ]
  },
  {
   "cell_type": "markdown",
   "id": "53da39e1-8195-457e-85a9-a0d1f57a3a18",
   "metadata": {},
   "source": [
    "## ***Inheritance***"
   ]
  },
  {
   "cell_type": "markdown",
   "id": "f30b5ed0-d52c-49bc-8d31-11b275bcc76c",
   "metadata": {},
   "source": [
    "#### types of inheritance.....\n",
    "#### 1) Single Inheritance\n",
    "#### 2) Multi-Level Inheritance\n",
    "#### 3) Muiltiple Inheritance"
   ]
  },
  {
   "cell_type": "code",
   "execution_count": 58,
   "id": "6096aa06-8ba6-4743-856d-93e668bb5ca5",
   "metadata": {},
   "outputs": [
    {
     "data": {
      "text/plain": [
       "'Afra siddiqui'"
      ]
     },
     "execution_count": 58,
     "metadata": {},
     "output_type": "execute_result"
    }
   ],
   "source": [
    "#              ============================ Single Inheritance ===============================\n",
    "\n",
    "class Greet:\n",
    "    def welcome(self):\n",
    "        return f\"Ohhh.....! What a great dayy.....\"\n",
    "\n",
    "    @staticmethod\n",
    "    def hello():\n",
    "        return f\"Stay Strong!!!!!\"\n",
    "\n",
    "class Person(Greet):\n",
    "    def hey(self,name):\n",
    "        self.name = name\n",
    "\n",
    "\n",
    "# greet = Greet()\n",
    "# greet\n",
    "person = Person()\n",
    "person.hello()\n",
    "person.welcome()\n",
    "person.hey(\"Afra siddiqui\")\n",
    "person.name"
   ]
  },
  {
   "cell_type": "code",
   "execution_count": 62,
   "id": "c065b6fd-07ae-4478-b93b-7acc0c49b978",
   "metadata": {},
   "outputs": [
    {
     "data": {
      "text/plain": [
       "'Fatima'"
      ]
     },
     "execution_count": 62,
     "metadata": {},
     "output_type": "execute_result"
    }
   ],
   "source": [
    "#              ============================ Multi-Level Inheritance ===============================\n",
    "\n",
    "class Greet:\n",
    "    def welcome(self):\n",
    "        return f\"Ohhh.....! What a great dayy.....\"\n",
    "\n",
    "    @staticmethod\n",
    "    def hello():\n",
    "        return f\"Stay Strong!!!!!\"\n",
    "\n",
    "class Person(Greet):\n",
    "    def hey(self,name):\n",
    "        self.name = name\n",
    "\n",
    "\n",
    "class Student(Person):\n",
    "    def student_one(self,name):\n",
    "        self.name = name\n",
    "\n",
    "\n",
    "# greet = Greet()\n",
    "# greet\n",
    "person = Person()\n",
    "person.hello()\n",
    "person.welcome()\n",
    "person.hey(\"Afra siddiqui\")\n",
    "person.name\n",
    "student = Student()\n",
    "student.student_one(\"Ayesha\")\n",
    "student.hello()\n",
    "student.hey(\"Fatima\")\n",
    "student.name"
   ]
  },
  {
   "cell_type": "code",
   "execution_count": 70,
   "id": "d3684c0b-7de1-4496-a9da-ab09bc3b5ac1",
   "metadata": {},
   "outputs": [
    {
     "data": {
      "text/plain": [
       "'I am belongs to class E...'"
      ]
     },
     "execution_count": 70,
     "metadata": {},
     "output_type": "execute_result"
    }
   ],
   "source": [
    "#              ============================ Muiltiple Inheritance ===============================\n",
    "\n",
    "class A:\n",
    "    std_A = \"I am belongs to class A...\"\n",
    "\n",
    "class B:\n",
    "    std_B = \"I am belongs to class B...\"\n",
    "\n",
    "class C:\n",
    "    std_C  = \"I am belongs to class C...\"\n",
    "\n",
    "class D:\n",
    "    std_D = \"I am belongs to class D...\"\n",
    "\n",
    "class Inherite(A,B,C,D):\n",
    "    stud_E = \"I am belongs to class E...\"\n",
    "\n",
    "combine = Inherite()\n",
    "combine.std_B\n",
    "combine.std_D\n",
    "combine.std_A\n",
    "combine.std_C\n",
    "combine.stud_E"
   ]
  },
  {
   "cell_type": "code",
   "execution_count": 86,
   "id": "0c6b3dd2-e918-4f79-abaa-cc386285cdb6",
   "metadata": {},
   "outputs": [
    {
     "data": {
      "text/plain": [
       "'Ohhh.....! What a great dayy.....'"
      ]
     },
     "execution_count": 86,
     "metadata": {},
     "output_type": "execute_result"
    }
   ],
   "source": [
    "#              ============================ Super Method ===============================\n",
    "\n",
    "class Greet:\n",
    "    def welcome(self):\n",
    "        return f\"Ohhh.....! What a great dayy.....\"\n",
    "\n",
    "    @staticmethod\n",
    "    def hello():\n",
    "        return f\"Stay Strong!!!!!\"\n",
    "\n",
    "class Person(Greet):\n",
    "    def hey(self,typ):\n",
    "        self.typ = typ\n",
    "\n",
    "\n",
    "class Student(Person):\n",
    "    def student_one(self,name,typ):\n",
    "        self.name = name\n",
    "        super().hey(typ)\n",
    "        super().welcome()\n",
    "        \n",
    "\n",
    "\n",
    "# greet = Greet()\n",
    "# greet\n",
    "person = Person()\n",
    "# person.hello()\n",
    "# person.welcome()\n",
    "person.hey(\"Afra siddiqui\")\n",
    "person.typ\n",
    "student = Student()\n",
    "student.student_one(\"adguuik\",1234)\n",
    "student.name\n",
    "student.welcome()\n",
    "# student.student_one(\"Ayesha\")\n",
    "# student.hello()\n",
    "# student.hey(\"Fatima\")\n",
    "# student.name"
   ]
  },
  {
   "cell_type": "code",
   "execution_count": 93,
   "id": "a3bc31f9-5023-479c-8faa-df5bae09befc",
   "metadata": {},
   "outputs": [
    {
     "data": {
      "text/plain": [
       "'Afra Siddiqui'"
      ]
     },
     "execution_count": 93,
     "metadata": {},
     "output_type": "execute_result"
    }
   ],
   "source": [
    "class Person:\n",
    "    my_name = \"Afra Siddiqui\"\n",
    "\n",
    "    @classmethod\n",
    "    def hey(cls,name):\n",
    "        cls.name = name\n",
    "\n",
    "\n",
    "\n",
    "person = Person()\n",
    "person.hey(\"Ayesha\")\n",
    "person.my_name\n",
    "person.name\n",
    "Person.my_name"
   ]
  },
  {
   "cell_type": "markdown",
   "id": "729e9a0c-c626-4b79-b968-dea5274f62da",
   "metadata": {},
   "source": [
    "# ***Polymorphism***"
   ]
  },
  {
   "cell_type": "code",
   "execution_count": 106,
   "id": "9ee56e21-1f44-4f54-9de7-a7933c3d7a79",
   "metadata": {},
   "outputs": [
    {
     "name": "stdout",
     "output_type": "stream",
     "text": [
      "2 i *  6 j\n",
      "7 i *  8 j\n",
      "Now their sum is\n",
      "14 i *  48 j\n"
     ]
    }
   ],
   "source": [
    "#              ============================ OOperator & Damder ===============================\n",
    "\n",
    "class Complex:\n",
    "    def __init__(self,real_num,img_num):\n",
    "        self.real_num = real_num\n",
    "        self.img_num = img_num\n",
    "\n",
    "    def show_number(self):\n",
    "        print(self.real_num,\"i * \",self.img_num,\"j\")\n",
    "\n",
    "    def __add__( number1 , number2):\n",
    "        sum_real = number1.real_num + number2.real_num\n",
    "        sum_img = number1.img_num + number2.img_num \n",
    "        return Complex(sum_real,sum_img)\n",
    "\n",
    "    def __sub__( number1 , number2):\n",
    "        sum_real = number1.real_num - number2.real_num\n",
    "        sum_img = number1.img_num - number2.img_num \n",
    "        return Complex(sum_real,sum_img)\n",
    "\n",
    "    def __mul__( number1 , number2):\n",
    "        sum_real = number1.real_num * number2.real_num\n",
    "        sum_img = number1.img_num * number2.img_num \n",
    "        return Complex(sum_real,sum_img)\n",
    "        \n",
    "number1 = Complex(2,6)  \n",
    "number1.show_number()\n",
    "\n",
    "number2 = Complex(7,8)  \n",
    "number2.show_number()\n",
    "\n",
    "print(\"Now their sum is\")\n",
    "\n",
    "number3 = number1 * number2\n",
    "number3.show_number()"
   ]
  },
  {
   "cell_type": "markdown",
   "id": "1eba1b88-74a3-4b48-bf51-62091baeec6b",
   "metadata": {},
   "source": [
    "# ***Practice OOP***"
   ]
  },
  {
   "cell_type": "markdown",
   "id": "fae5c63b-33c7-4e7a-addd-ed44eed34410",
   "metadata": {},
   "source": [
    "#### Define a circle class to create a circle with radius r using constractor. create method Area()and Parameter() to claculate area and parameter. "
   ]
  },
  {
   "cell_type": "code",
   "execution_count": 109,
   "id": "013f5a47-9810-4e82-a045-eb8f05f7e2f8",
   "metadata": {},
   "outputs": [
    {
     "name": "stdin",
     "output_type": "stream",
     "text": [
      "Enter an radius of circle 4\n"
     ]
    },
    {
     "name": "stdout",
     "output_type": "stream",
     "text": [
      "The area of the circle is 50.26548245743669\n",
      "The parameter of the circle is 25.132741228718345\n"
     ]
    }
   ],
   "source": [
    "import math\n",
    "radius = int(input(\"Enter an radius of circle\"))\n",
    "\n",
    "class Circle:\n",
    "    def __init__(self,radius):\n",
    "        self.radius = radius\n",
    "\n",
    "    def area(self):\n",
    "        area = math.pi*self.radius**2\n",
    "        print(f\"The area of the circle is {area}\")\n",
    "\n",
    "    def parameter(self):\n",
    "        parameter = 2*math.pi*self.radius\n",
    "        print(f\"The parameter of the circle is {parameter}\")\n",
    "\n",
    "circle = Circle(radius)\n",
    "circle\n",
    "circle.area()\n",
    "circle.parameter()"
   ]
  },
  {
   "cell_type": "markdown",
   "id": "cf4d34be-f7c9-45f3-bb00-f5f312e1cdd9",
   "metadata": {},
   "source": [
    "##### Define employee class with attribute salary ,role ,deaparment. This class also showdetail method.Creat an engineer class that inherite the properties from employee and has additional property like age and name."
   ]
  },
  {
   "cell_type": "code",
   "execution_count": 120,
   "id": "dc8c7248-e76f-4dab-bb12-e9bf9e0a8a34",
   "metadata": {},
   "outputs": [
    {
     "name": "stdout",
     "output_type": "stream",
     "text": [
      "Hii!!! My name is afra and my age is 34 my role is student and my department Engineering and my salary is 3500\n"
     ]
    }
   ],
   "source": [
    "class Employee:\n",
    "    def __init__(self,role,department,salary):\n",
    "        self.role = role\n",
    "        self.department = department\n",
    "        self.salary = salary\n",
    "\n",
    "\n",
    "class Engineer(Employee):\n",
    "    def __init__(self,name,age):\n",
    "        self.name = name\n",
    "        self.age = age\n",
    "        super().__init__(\"student\",\"Engineering\",\"3500\")\n",
    "\n",
    "    def show_details(self):\n",
    "        print(f\"Hii!!! My name is {self.name} and my age is {self.age} my role is {self.role} and my department {self.department} and my salary is {self.salary}\")\n",
    "\n",
    "    \n",
    "\n",
    "employee = Engineer(\"afra\",34)\n",
    "employee.show_details()"
   ]
  },
  {
   "cell_type": "markdown",
   "id": "9ede44f0-d716-4437-b7b0-5e02e8c621d7",
   "metadata": {},
   "source": [
    "#### Create a class named order which store items and price. use Dunder function to get expensive item amoing them."
   ]
  },
  {
   "cell_type": "code",
   "execution_count": 137,
   "id": "bb30eb17-f1fc-47dd-b097-ceea02a4fa3d",
   "metadata": {},
   "outputs": [
    {
     "data": {
      "text/plain": [
       "58"
      ]
     },
     "execution_count": 137,
     "metadata": {},
     "output_type": "execute_result"
    }
   ],
   "source": [
    "class Order:\n",
    "    def __init__(self,item,price):\n",
    "        self.item = item\n",
    "        self.price = price\n",
    "\n",
    "    def __gt__(price1,price2):\n",
    "          return  price1.price > price2.price\n",
    "\n",
    "order1 = Order(\"chips\",8)\n",
    "order2 = Order(\"tea\", 50)\n",
    "orders = order1 > order2\n",
    "orders\n",
    "  "
   ]
  },
  {
   "cell_type": "code",
   "execution_count": null,
   "id": "bc40bbb8-ac75-4376-9e46-05c81c621449",
   "metadata": {},
   "outputs": [],
   "source": []
  },
  {
   "cell_type": "code",
   "execution_count": null,
   "id": "6ffff0e3-734d-429c-a423-db76ca4d1924",
   "metadata": {},
   "outputs": [],
   "source": []
  },
  {
   "cell_type": "code",
   "execution_count": null,
   "id": "4c0bc832-3c27-43db-9d25-7eb3dbcd4a14",
   "metadata": {},
   "outputs": [],
   "source": []
  },
  {
   "cell_type": "code",
   "execution_count": null,
   "id": "4f4bfad9-3e68-4235-8cfe-828b4658c3dc",
   "metadata": {},
   "outputs": [],
   "source": []
  },
  {
   "cell_type": "code",
   "execution_count": null,
   "id": "c4616fa4-c737-480d-899d-99bb0d37247b",
   "metadata": {},
   "outputs": [],
   "source": []
  }
 ],
 "metadata": {
  "kernelspec": {
   "display_name": "Python 3 (ipykernel)",
   "language": "python",
   "name": "python3"
  },
  "language_info": {
   "codemirror_mode": {
    "name": "ipython",
    "version": 3
   },
   "file_extension": ".py",
   "mimetype": "text/x-python",
   "name": "python",
   "nbconvert_exporter": "python",
   "pygments_lexer": "ipython3",
   "version": "3.12.5"
  }
 },
 "nbformat": 4,
 "nbformat_minor": 5
}
